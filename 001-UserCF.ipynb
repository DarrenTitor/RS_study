{
 "cells": [
  {
   "cell_type": "code",
   "execution_count": 1,
   "metadata": {},
   "outputs": [],
   "source": [
    "import numpy as np\n",
    "from numpy.linalg import norm"
   ]
  },
  {
   "cell_type": "code",
   "execution_count": 2,
   "metadata": {},
   "outputs": [],
   "source": [
    "cooccurrence = np.matrix([[1, 0, 1, -1, -1], \n",
    "         [-1, 1, 0, 1, 1], \n",
    "         [0, 1, 1, -1, 0], \n",
    "         [0, 0, -1, -1, -1]])"
   ]
  },
  {
   "cell_type": "code",
   "execution_count": 3,
   "metadata": {},
   "outputs": [],
   "source": [
    "target_user = np.array([-1, -1, 0, 1, np.nan])"
   ]
  },
  {
   "cell_type": "code",
   "execution_count": 26,
   "metadata": {},
   "outputs": [],
   "source": [
    "class UserCF:\n",
    "    def __init__(self, cooccurrence, target_user, item_index):\n",
    "        self.cooccurrence = cooccurrence\n",
    "        self.target_user = target_user\n",
    "        self.item_index = item_index\n",
    "        # parameter\n",
    "        self.item_index = 4\n",
    "        self.top_n_user = 3\n",
    "        self.sim_metric = 'pearson'\n",
    "        self.metric_dict = {'cos_sim':cos_sim, 'pearson':pearson}\n",
    "        \n",
    "    def cos_sim(i, j):\n",
    "        denominator = norm(i) * norm(j)\n",
    "        if denominator == 0:\n",
    "            return np.nan\n",
    "        else:\n",
    "            return np.dot(i, j) / denominator\n",
    "    \n",
    "    def pearson (i, j):\n",
    "        fraction = 0\n",
    "        deno_a = 0\n",
    "        deno_b = 0\n",
    "        for p in range(len(i)):\n",
    "            fraction += (i[p] - np.average(i)) * (j[p] - np.average(j))\n",
    "            deno_a += (i[p] - np.average(i))**2\n",
    "            deno_b += (j[p] - np.average(j))**2\n",
    "        deno_a = deno_a ** 0.5\n",
    "        deno_b = deno_b ** 0.5\n",
    "        denominator = deno_a * deno_b\n",
    "        if denominator == 0:\n",
    "            return np.nan\n",
    "        else:\n",
    "            return fraction / denominator\n",
    "    \n",
    "    def get_coef(X):\n",
    "        return X[1]\n",
    "    \n",
    "    def get_input(self):\n",
    "        self.temp_matrix = np.delete(self.cooccurrence, self.item_index, axis=1)\n",
    "        self.temp_target_v = np.delete(self.target_user, self.item_index)\n",
    "        \n",
    "    def rank_top_n(self):\n",
    "        self.q = []\n",
    "        for user_idx,user_v in enumerate(self.temp_matrix):\n",
    "            similarity = self.metric_dict[self.sim_metric](self.temp_target_v, np.asarray(user_v).reshape(-1))\n",
    "            self.q.append((user_idx, similarity))\n",
    "        self.q.sort(key=get_coef, reverse=True)\n",
    "        \n",
    "    def predict(self):\n",
    "        self.get_input()\n",
    "        self.rank_top_n()\n",
    "        self.top_n_rate = []\n",
    "        self.top_n_sim = []\n",
    "        for uid,sim in self.q[:self.top_n_user]:\n",
    "            self.top_n_rate.append(cooccurrence[uid, self.item_index])\n",
    "            self.top_n_sim.append(sim)\n",
    "        self.target_user[self.item_index] = np.average(self.top_n_rate, weights=self.top_n_sim)\n",
    "        print(np.average(self.top_n_rate, weights=self.top_n_sim))\n",
    "        print(self.target_user)"
   ]
  },
  {
   "cell_type": "code",
   "execution_count": 27,
   "metadata": {},
   "outputs": [],
   "source": [
    "A = UserCF(cooccurrence, target_user, 4)"
   ]
  },
  {
   "cell_type": "code",
   "execution_count": 28,
   "metadata": {},
   "outputs": [
    {
     "name": "stdout",
     "output_type": "stream",
     "text": [
      "-1.3333333333333333\n",
      "[-1.         -1.          0.          1.         -1.33333333]\n"
     ]
    }
   ],
   "source": [
    "A.predict()"
   ]
  },
  {
   "cell_type": "code",
   "execution_count": null,
   "metadata": {},
   "outputs": [],
   "source": []
  }
 ],
 "metadata": {
  "kernelspec": {
   "display_name": "Python 3",
   "language": "python",
   "name": "python3"
  },
  "language_info": {
   "codemirror_mode": {
    "name": "ipython",
    "version": 3
   },
   "file_extension": ".py",
   "mimetype": "text/x-python",
   "name": "python",
   "nbconvert_exporter": "python",
   "pygments_lexer": "ipython3",
   "version": "3.6.8"
  }
 },
 "nbformat": 4,
 "nbformat_minor": 4
}
